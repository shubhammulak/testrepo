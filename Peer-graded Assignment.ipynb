{
 "cells": [
  {
   "cell_type": "markdown",
   "id": "4e8f737c-82b8-4837-b709-65d5f2412ea0",
   "metadata": {},
   "source": [
    "<H1> My Jupyter Notebook on IBM Watson Studio </H1>"
   ]
  },
  {
   "cell_type": "markdown",
   "id": "dee02202-a358-4d9a-acf6-7119e6e7b945",
   "metadata": {},
   "source": [
    "**Shubham Mulak** \n",
    "\n",
    "Business Analyst"
   ]
  },
  {
   "cell_type": "markdown",
   "id": "f0ad71ce-1553-402a-ba12-a6d8d77f3ee7",
   "metadata": {},
   "source": [
    "*I am interested in data science because data science field is all about solving the real life problems which i found very interesting!*"
   ]
  },
  {
   "cell_type": "markdown",
   "id": "633c2d02-1a2a-49f0-8518-91ec45500f87",
   "metadata": {},
   "source": [
    "<H3>Now Below is the simple code of multiplication</H3> "
   ]
  },
  {
   "cell_type": "code",
   "execution_count": 5,
   "id": "837bc653-e3ba-4f45-86a4-6d09973b8bfa",
   "metadata": {},
   "outputs": [
    {
     "data": {
      "text/plain": [
       "2"
      ]
     },
     "execution_count": 5,
     "metadata": {},
     "output_type": "execute_result"
    }
   ],
   "source": [
    "1*2"
   ]
  },
  {
   "cell_type": "markdown",
   "id": "ca76021e-3c13-483a-b87c-d115cc3fbdd9",
   "metadata": {},
   "source": [
    "-**Numbered List**\n",
    "1. Shubham\n",
    "2. Abhishek\n",
    "3. Yash\n",
    "4. Virendra\n",
    "\n",
    "-**Bulleted list**\n",
    "* One\n",
    "* Two\n",
    "* Three\n",
    "* Four\n",
    "\n",
    "-**Table**\n",
    "\n",
    "| Name          | Age           | BMI   |\n",
    "| ------------- |:-------------:| -----:|\n",
    "| Shubham       | 24            | 20    |\n",
    "| Virendra      | 25            | 21    |\n",
    "| Yash          | 28            | 22    |\n",
    "| Abhishek      | 30            | 23    |\n",
    "\n",
    "-**Image and Hyperlink**\n",
    "\n",
    "Here's Google logo (hover to see the title text):\n",
    " \n",
    "![alt text](https://www.google.com/images/branding/googleg/1x/googleg_standard_color_128dp.png \"Google.com\")\n",
    "\n",
    "\n",
    "[Click here to search](https://www.google.com \"Google's Homepage\")\n",
    "\n",
    "-**syntax highlighting**\n",
    "```\n",
    "H = \"syntax highlighting\"\n",
    "print(H)\n",
    "```\n",
    "\n",
    "-**Strikethrough**\n",
    "\n",
    "~~Scratch this.~~\n"
   ]
  }
 ],
 "metadata": {
  "kernelspec": {
   "display_name": "Python",
   "language": "python",
   "name": "conda-env-python-py"
  },
  "language_info": {
   "codemirror_mode": {
    "name": "ipython",
    "version": 3
   },
   "file_extension": ".py",
   "mimetype": "text/x-python",
   "name": "python",
   "nbconvert_exporter": "python",
   "pygments_lexer": "ipython3",
   "version": "3.7.12"
  }
 },
 "nbformat": 4,
 "nbformat_minor": 5
}
